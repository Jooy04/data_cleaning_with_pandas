{
 "cells": [
  {
   "cell_type": "markdown",
   "metadata": {},
   "source": [
    "### echo \"# data_cleaning_with_pandas\" >> README.md\n",
    "\n",
    "git init\n",
    "git add README.md\n",
    "git commit -m \"first commit\"\n",
    "git branch -M main\n",
    "git remote add origin https://github.com/Jooy04/data_cleaning_with_pandas.git\n",
    "git push -u origin main"
   ]
  },
  {
   "cell_type": "markdown",
   "metadata": {},
   "source": [
    "## Extraction"
   ]
  },
  {
   "cell_type": "code",
   "execution_count": 2,
   "metadata": {},
   "outputs": [],
   "source": [
    "import pandas as pd"
   ]
  },
  {
   "cell_type": "code",
   "execution_count": 3,
   "metadata": {},
   "outputs": [],
   "source": [
    "travels_data= pd.read_csv(\"https://drive.google.com/uc?id=1muwnik-uFGTKBdHmcQN5z68rD7qmdG-b\")"
   ]
  },
  {
   "cell_type": "markdown",
   "metadata": {},
   "source": [
    "Exploring the data"
   ]
  },
  {
   "cell_type": "code",
   "execution_count": 9,
   "metadata": {},
   "outputs": [
    {
     "data": {
      "text/plain": [
       "(418, 6)"
      ]
     },
     "execution_count": 9,
     "metadata": {},
     "output_type": "execute_result"
    }
   ],
   "source": [
    "travels_data.shape"
   ]
  },
  {
   "cell_type": "code",
   "execution_count": 5,
   "metadata": {},
   "outputs": [
    {
     "name": "stdout",
     "output_type": "stream",
     "text": [
      "<class 'pandas.core.frame.DataFrame'>\n",
      "RangeIndex: 418 entries, 0 to 417\n",
      "Data columns (total 6 columns):\n",
      " #   Column                 Non-Null Count  Dtype  \n",
      "---  ------                 --------------  -----  \n",
      " 0   Employee               418 non-null    object \n",
      " 1   Destination            418 non-null    object \n",
      " 2   Travel Start Date      418 non-null    object \n",
      " 3   Travel End Date        418 non-null    object \n",
      " 4   Actual Total Expenses  418 non-null    float64\n",
      " 5   Purpose Of Travel      415 non-null    object \n",
      "dtypes: float64(1), object(5)\n",
      "memory usage: 19.7+ KB\n"
     ]
    }
   ],
   "source": [
    "travels_data.info()"
   ]
  },
  {
   "cell_type": "markdown",
   "metadata": {},
   "source": [
    "what should be adjusted when you view the data?\n",
    "\n",
    "1. seperate city and \n",
    "\n",
    "2. seperate names\n",
    "\n",
    "3. there are initials in the name, that could be removed"
   ]
  },
  {
   "cell_type": "code",
   "execution_count": 10,
   "metadata": {},
   "outputs": [
    {
     "data": {
      "text/html": [
       "<div>\n",
       "<style scoped>\n",
       "    .dataframe tbody tr th:only-of-type {\n",
       "        vertical-align: middle;\n",
       "    }\n",
       "\n",
       "    .dataframe tbody tr th {\n",
       "        vertical-align: top;\n",
       "    }\n",
       "\n",
       "    .dataframe thead th {\n",
       "        text-align: right;\n",
       "    }\n",
       "</style>\n",
       "<table border=\"1\" class=\"dataframe\">\n",
       "  <thead>\n",
       "    <tr style=\"text-align: right;\">\n",
       "      <th></th>\n",
       "      <th>Employee</th>\n",
       "      <th>Destination</th>\n",
       "      <th>Travel Start Date</th>\n",
       "      <th>Travel End Date</th>\n",
       "      <th>Actual Total Expenses</th>\n",
       "      <th>Purpose Of Travel</th>\n",
       "    </tr>\n",
       "  </thead>\n",
       "  <tbody>\n",
       "    <tr>\n",
       "      <th>0</th>\n",
       "      <td>Aaron Salter</td>\n",
       "      <td>OCEAN CITY, MD</td>\n",
       "      <td>2017-05-31</td>\n",
       "      <td>2017-06-02</td>\n",
       "      <td>644.10</td>\n",
       "      <td>Conference</td>\n",
       "    </tr>\n",
       "    <tr>\n",
       "      <th>1</th>\n",
       "      <td>Abigail Ratnofsky</td>\n",
       "      <td>SAN DIEGO, CA</td>\n",
       "      <td>2016-01-24</td>\n",
       "      <td>2016-01-29</td>\n",
       "      <td>2962.70</td>\n",
       "      <td>Conference</td>\n",
       "    </tr>\n",
       "    <tr>\n",
       "      <th>2</th>\n",
       "      <td>Adam Kisthardt</td>\n",
       "      <td>ORLANDO, FL</td>\n",
       "      <td>2018-10-04</td>\n",
       "      <td>2018-10-09</td>\n",
       "      <td>1891.19</td>\n",
       "      <td>Conference</td>\n",
       "    </tr>\n",
       "    <tr>\n",
       "      <th>3</th>\n",
       "      <td>Adam P. Jones</td>\n",
       "      <td>OCEAN CITY, MD</td>\n",
       "      <td>2016-06-19</td>\n",
       "      <td>2016-06-21</td>\n",
       "      <td>324.36</td>\n",
       "      <td>Conference</td>\n",
       "    </tr>\n",
       "    <tr>\n",
       "      <th>4</th>\n",
       "      <td>Alan Butsch</td>\n",
       "      <td>SAN DIEGO, CA</td>\n",
       "      <td>2019-11-19</td>\n",
       "      <td>2019-11-22</td>\n",
       "      <td>2141.51</td>\n",
       "      <td>Conference</td>\n",
       "    </tr>\n",
       "    <tr>\n",
       "      <th>...</th>\n",
       "      <td>...</td>\n",
       "      <td>...</td>\n",
       "      <td>...</td>\n",
       "      <td>...</td>\n",
       "      <td>...</td>\n",
       "      <td>...</td>\n",
       "    </tr>\n",
       "    <tr>\n",
       "      <th>413</th>\n",
       "      <td>Warren Jensen!</td>\n",
       "      <td>OCEAN CITY, MD</td>\n",
       "      <td>2017-11-06</td>\n",
       "      <td>2017-11-09</td>\n",
       "      <td>502.45</td>\n",
       "      <td>Conference</td>\n",
       "    </tr>\n",
       "    <tr>\n",
       "      <th>414</th>\n",
       "      <td>Warp Jensen</td>\n",
       "      <td>OCEAN CITY, MD</td>\n",
       "      <td>2019-03-25</td>\n",
       "      <td>2019-03-26</td>\n",
       "      <td>78.00</td>\n",
       "      <td>Conference</td>\n",
       "    </tr>\n",
       "    <tr>\n",
       "      <th>415</th>\n",
       "      <td>Whitney Kujawa</td>\n",
       "      <td>OCEAN CITY, MD</td>\n",
       "      <td>2017-11-06</td>\n",
       "      <td>2017-11-09</td>\n",
       "      <td>567.00</td>\n",
       "      <td>Conference</td>\n",
       "    </tr>\n",
       "    <tr>\n",
       "      <th>416</th>\n",
       "      <td>William Kinna</td>\n",
       "      <td>CHARLOTTE, NC</td>\n",
       "      <td>2017-05-21</td>\n",
       "      <td>2017-05-26</td>\n",
       "      <td>2163.67</td>\n",
       "      <td>Conference</td>\n",
       "    </tr>\n",
       "    <tr>\n",
       "      <th>417</th>\n",
       "      <td>Xin Qi</td>\n",
       "      <td>OCEAN CITY, MD</td>\n",
       "      <td>2019-08-13</td>\n",
       "      <td>2019-08-17</td>\n",
       "      <td>2107.51</td>\n",
       "      <td>Conference</td>\n",
       "    </tr>\n",
       "  </tbody>\n",
       "</table>\n",
       "<p>418 rows × 6 columns</p>\n",
       "</div>"
      ],
      "text/plain": [
       "              Employee     Destination Travel Start Date Travel End Date  \\\n",
       "0         Aaron Salter  OCEAN CITY, MD        2017-05-31      2017-06-02   \n",
       "1    Abigail Ratnofsky   SAN DIEGO, CA        2016-01-24      2016-01-29   \n",
       "2       Adam Kisthardt     ORLANDO, FL        2018-10-04      2018-10-09   \n",
       "3        Adam P. Jones  OCEAN CITY, MD        2016-06-19      2016-06-21   \n",
       "4          Alan Butsch   SAN DIEGO, CA        2019-11-19      2019-11-22   \n",
       "..                 ...             ...               ...             ...   \n",
       "413     Warren Jensen!  OCEAN CITY, MD   2017-11-06           2017-11-09   \n",
       "414        Warp Jensen  OCEAN CITY, MD        2019-03-25      2019-03-26   \n",
       "415     Whitney Kujawa  OCEAN CITY, MD        2017-11-06      2017-11-09   \n",
       "416      William Kinna   CHARLOTTE, NC        2017-05-21      2017-05-26   \n",
       "417             Xin Qi  OCEAN CITY, MD        2019-08-13      2019-08-17   \n",
       "\n",
       "     Actual Total Expenses Purpose Of Travel  \n",
       "0                   644.10        Conference  \n",
       "1                  2962.70        Conference  \n",
       "2                  1891.19        Conference  \n",
       "3                   324.36        Conference  \n",
       "4                  2141.51        Conference  \n",
       "..                     ...               ...  \n",
       "413                 502.45        Conference  \n",
       "414                  78.00        Conference  \n",
       "415                 567.00        Conference  \n",
       "416                2163.67        Conference  \n",
       "417                2107.51        Conference  \n",
       "\n",
       "[418 rows x 6 columns]"
      ]
     },
     "execution_count": 10,
     "metadata": {},
     "output_type": "execute_result"
    }
   ],
   "source": [
    "travels_data"
   ]
  },
  {
   "cell_type": "code",
   "execution_count": 13,
   "metadata": {},
   "outputs": [
    {
     "data": {
      "text/html": [
       "<div>\n",
       "<style scoped>\n",
       "    .dataframe tbody tr th:only-of-type {\n",
       "        vertical-align: middle;\n",
       "    }\n",
       "\n",
       "    .dataframe tbody tr th {\n",
       "        vertical-align: top;\n",
       "    }\n",
       "\n",
       "    .dataframe thead th {\n",
       "        text-align: right;\n",
       "    }\n",
       "</style>\n",
       "<table border=\"1\" class=\"dataframe\">\n",
       "  <thead>\n",
       "    <tr style=\"text-align: right;\">\n",
       "      <th></th>\n",
       "      <th>Employee</th>\n",
       "      <th>Destination</th>\n",
       "      <th>Travel Start Date</th>\n",
       "      <th>Travel End Date</th>\n",
       "      <th>Actual Total Expenses</th>\n",
       "      <th>Purpose Of Travel</th>\n",
       "    </tr>\n",
       "  </thead>\n",
       "  <tbody>\n",
       "    <tr>\n",
       "      <th>0</th>\n",
       "      <td>Aaron Salter</td>\n",
       "      <td>OCEAN CITY, MD</td>\n",
       "      <td>2017-05-31</td>\n",
       "      <td>2017-06-02</td>\n",
       "      <td>644.10</td>\n",
       "      <td>Conference</td>\n",
       "    </tr>\n",
       "    <tr>\n",
       "      <th>1</th>\n",
       "      <td>Abigail Ratnofsky</td>\n",
       "      <td>SAN DIEGO, CA</td>\n",
       "      <td>2016-01-24</td>\n",
       "      <td>2016-01-29</td>\n",
       "      <td>2962.70</td>\n",
       "      <td>Conference</td>\n",
       "    </tr>\n",
       "    <tr>\n",
       "      <th>2</th>\n",
       "      <td>Adam Kisthardt</td>\n",
       "      <td>ORLANDO, FL</td>\n",
       "      <td>2018-10-04</td>\n",
       "      <td>2018-10-09</td>\n",
       "      <td>1891.19</td>\n",
       "      <td>Conference</td>\n",
       "    </tr>\n",
       "    <tr>\n",
       "      <th>3</th>\n",
       "      <td>Adam P. Jones</td>\n",
       "      <td>OCEAN CITY, MD</td>\n",
       "      <td>2016-06-19</td>\n",
       "      <td>2016-06-21</td>\n",
       "      <td>324.36</td>\n",
       "      <td>Conference</td>\n",
       "    </tr>\n",
       "    <tr>\n",
       "      <th>4</th>\n",
       "      <td>Alan Butsch</td>\n",
       "      <td>SAN DIEGO, CA</td>\n",
       "      <td>2019-11-19</td>\n",
       "      <td>2019-11-22</td>\n",
       "      <td>2141.51</td>\n",
       "      <td>Conference</td>\n",
       "    </tr>\n",
       "    <tr>\n",
       "      <th>...</th>\n",
       "      <td>...</td>\n",
       "      <td>...</td>\n",
       "      <td>...</td>\n",
       "      <td>...</td>\n",
       "      <td>...</td>\n",
       "      <td>...</td>\n",
       "    </tr>\n",
       "    <tr>\n",
       "      <th>413</th>\n",
       "      <td>Warren Jensen!</td>\n",
       "      <td>OCEAN CITY, MD</td>\n",
       "      <td>2017-11-06</td>\n",
       "      <td>2017-11-09</td>\n",
       "      <td>502.45</td>\n",
       "      <td>Conference</td>\n",
       "    </tr>\n",
       "    <tr>\n",
       "      <th>414</th>\n",
       "      <td>Warp Jensen</td>\n",
       "      <td>OCEAN CITY, MD</td>\n",
       "      <td>2019-03-25</td>\n",
       "      <td>2019-03-26</td>\n",
       "      <td>78.00</td>\n",
       "      <td>Conference</td>\n",
       "    </tr>\n",
       "    <tr>\n",
       "      <th>415</th>\n",
       "      <td>Whitney Kujawa</td>\n",
       "      <td>OCEAN CITY, MD</td>\n",
       "      <td>2017-11-06</td>\n",
       "      <td>2017-11-09</td>\n",
       "      <td>567.00</td>\n",
       "      <td>Conference</td>\n",
       "    </tr>\n",
       "    <tr>\n",
       "      <th>416</th>\n",
       "      <td>William Kinna</td>\n",
       "      <td>CHARLOTTE, NC</td>\n",
       "      <td>2017-05-21</td>\n",
       "      <td>2017-05-26</td>\n",
       "      <td>2163.67</td>\n",
       "      <td>Conference</td>\n",
       "    </tr>\n",
       "    <tr>\n",
       "      <th>417</th>\n",
       "      <td>Xin Qi</td>\n",
       "      <td>OCEAN CITY, MD</td>\n",
       "      <td>2019-08-13</td>\n",
       "      <td>2019-08-17</td>\n",
       "      <td>2107.51</td>\n",
       "      <td>Conference</td>\n",
       "    </tr>\n",
       "  </tbody>\n",
       "</table>\n",
       "<p>418 rows × 6 columns</p>\n",
       "</div>"
      ],
      "text/plain": [
       "              Employee     Destination Travel Start Date Travel End Date  \\\n",
       "0         Aaron Salter  OCEAN CITY, MD        2017-05-31      2017-06-02   \n",
       "1    Abigail Ratnofsky   SAN DIEGO, CA        2016-01-24      2016-01-29   \n",
       "2       Adam Kisthardt     ORLANDO, FL        2018-10-04      2018-10-09   \n",
       "3        Adam P. Jones  OCEAN CITY, MD        2016-06-19      2016-06-21   \n",
       "4          Alan Butsch   SAN DIEGO, CA        2019-11-19      2019-11-22   \n",
       "..                 ...             ...               ...             ...   \n",
       "413     Warren Jensen!  OCEAN CITY, MD   2017-11-06           2017-11-09   \n",
       "414        Warp Jensen  OCEAN CITY, MD        2019-03-25      2019-03-26   \n",
       "415     Whitney Kujawa  OCEAN CITY, MD        2017-11-06      2017-11-09   \n",
       "416      William Kinna   CHARLOTTE, NC        2017-05-21      2017-05-26   \n",
       "417             Xin Qi  OCEAN CITY, MD        2019-08-13      2019-08-17   \n",
       "\n",
       "     Actual Total Expenses Purpose Of Travel  \n",
       "0                   644.10        Conference  \n",
       "1                  2962.70        Conference  \n",
       "2                  1891.19        Conference  \n",
       "3                   324.36        Conference  \n",
       "4                  2141.51        Conference  \n",
       "..                     ...               ...  \n",
       "413                 502.45        Conference  \n",
       "414                  78.00        Conference  \n",
       "415                 567.00        Conference  \n",
       "416                2163.67        Conference  \n",
       "417                2107.51        Conference  \n",
       "\n",
       "[418 rows x 6 columns]"
      ]
     },
     "execution_count": 13,
     "metadata": {},
     "output_type": "execute_result"
    }
   ],
   "source": [
    "travels_data.drop_duplicates()"
   ]
  },
  {
   "cell_type": "markdown",
   "metadata": {},
   "source": [
    "## CLEANING"
   ]
  },
  {
   "cell_type": "code",
   "execution_count": 36,
   "metadata": {},
   "outputs": [
    {
     "name": "stdout",
     "output_type": "stream",
     "text": [
      "<class 'pandas.core.frame.DataFrame'>\n",
      "RangeIndex: 418 entries, 0 to 417\n",
      "Data columns (total 6 columns):\n",
      " #   Column                 Non-Null Count  Dtype         \n",
      "---  ------                 --------------  -----         \n",
      " 0   Employee               418 non-null    object        \n",
      " 1   Destination            418 non-null    object        \n",
      " 2   Travel Start Date      418 non-null    datetime64[ns]\n",
      " 3   Travel End Date        418 non-null    object        \n",
      " 4   Actual Total Expenses  418 non-null    float64       \n",
      " 5   Purpose Of Travel      415 non-null    object        \n",
      "dtypes: datetime64[ns](1), float64(1), object(4)\n",
      "memory usage: 19.7+ KB\n"
     ]
    }
   ],
   "source": [
    "travels_data.info()"
   ]
  },
  {
   "cell_type": "code",
   "execution_count": 17,
   "metadata": {},
   "outputs": [],
   "source": [
    "travel_dataset= travels_data.copy()"
   ]
  },
  {
   "cell_type": "code",
   "execution_count": 19,
   "metadata": {},
   "outputs": [],
   "source": [
    "#to remove the white spaces in the dataes before converting it from string to date datatpe\n",
    "def remove_white_space(text):\n",
    "    if type(text)==str:\n",
    "        return text.strip()\n",
    "    return text"
   ]
  },
  {
   "cell_type": "code",
   "execution_count": 20,
   "metadata": {},
   "outputs": [],
   "source": [
    "#now to apply this function \n",
    "travel_dataset['Travel Start Date']=travel_dataset['Travel Start Date'].apply(remove_white_space)"
   ]
  },
  {
   "cell_type": "code",
   "execution_count": 25,
   "metadata": {},
   "outputs": [],
   "source": [
    "##we realized the date is a string and needs to be converted to date...pandas usually uses objects for string datatypes\n",
    "travel_dataset['Travel Start Date']=pd.to_datetime(travel_dataset['Travel Start Date'])\n"
   ]
  },
  {
   "cell_type": "code",
   "execution_count": 26,
   "metadata": {},
   "outputs": [
    {
     "name": "stdout",
     "output_type": "stream",
     "text": [
      "<class 'pandas.core.frame.DataFrame'>\n",
      "RangeIndex: 418 entries, 0 to 417\n",
      "Data columns (total 6 columns):\n",
      " #   Column                 Non-Null Count  Dtype         \n",
      "---  ------                 --------------  -----         \n",
      " 0   Employee               418 non-null    object        \n",
      " 1   Destination            418 non-null    object        \n",
      " 2   Travel Start Date      418 non-null    datetime64[ns]\n",
      " 3   Travel End Date        418 non-null    object        \n",
      " 4   Actual Total Expenses  418 non-null    float64       \n",
      " 5   Purpose Of Travel      415 non-null    object        \n",
      "dtypes: datetime64[ns](1), float64(1), object(4)\n",
      "memory usage: 19.7+ KB\n"
     ]
    }
   ],
   "source": [
    "travel_dataset.info()"
   ]
  },
  {
   "cell_type": "code",
   "execution_count": 30,
   "metadata": {},
   "outputs": [
    {
     "name": "stdout",
     "output_type": "stream",
     "text": [
      "<class 'pandas.core.frame.DataFrame'>\n",
      "RangeIndex: 418 entries, 0 to 417\n",
      "Data columns (total 6 columns):\n",
      " #   Column                 Non-Null Count  Dtype         \n",
      "---  ------                 --------------  -----         \n",
      " 0   Employee               418 non-null    object        \n",
      " 1   Destination            418 non-null    object        \n",
      " 2   Travel Start Date      418 non-null    datetime64[ns]\n",
      " 3   Travel End Date        418 non-null    object        \n",
      " 4   Actual Total Expenses  418 non-null    float64       \n",
      " 5   Purpose Of Travel      415 non-null    object        \n",
      "dtypes: datetime64[ns](1), float64(1), object(4)\n",
      "memory usage: 19.7+ KB\n"
     ]
    }
   ],
   "source": [
    "travel_dataset.info()"
   ]
  },
  {
   "cell_type": "code",
   "execution_count": 31,
   "metadata": {},
   "outputs": [],
   "source": [
    "#to apply that to the end data\n",
    "travel_dataset['Travel End Date']=travel_dataset['Travel End Date'].apply(remove_white_space)\n",
    "travel_dataset['Travel End Date']=pd.to_datetime(travel_dataset['Travel End Date'])"
   ]
  },
  {
   "cell_type": "code",
   "execution_count": 34,
   "metadata": {},
   "outputs": [
    {
     "name": "stdout",
     "output_type": "stream",
     "text": [
      "<class 'pandas.core.frame.DataFrame'>\n",
      "RangeIndex: 418 entries, 0 to 417\n",
      "Data columns (total 6 columns):\n",
      " #   Column                 Non-Null Count  Dtype         \n",
      "---  ------                 --------------  -----         \n",
      " 0   Employee               418 non-null    object        \n",
      " 1   Destination            418 non-null    object        \n",
      " 2   Travel Start Date      418 non-null    datetime64[ns]\n",
      " 3   Travel End Date        418 non-null    object        \n",
      " 4   Actual Total Expenses  418 non-null    float64       \n",
      " 5   Purpose Of Travel      415 non-null    object        \n",
      "dtypes: datetime64[ns](1), float64(1), object(4)\n",
      "memory usage: 19.7+ KB\n"
     ]
    }
   ],
   "source": [
    "travels_data.info()"
   ]
  },
  {
   "cell_type": "markdown",
   "metadata": {},
   "source": [
    "# now to clean null values\n",
    "1. you can drop the rows\n",
    "\n",
    "2. fill the null rows with something else\n",
    "\n"
   ]
  },
  {
   "cell_type": "code",
   "execution_count": null,
   "metadata": {},
   "outputs": [],
   "source": [
    "## to drop null values you use .dropna()"
   ]
  },
  {
   "cell_type": "code",
   "execution_count": 43,
   "metadata": {},
   "outputs": [
    {
     "data": {
      "text/html": [
       "<div>\n",
       "<style scoped>\n",
       "    .dataframe tbody tr th:only-of-type {\n",
       "        vertical-align: middle;\n",
       "    }\n",
       "\n",
       "    .dataframe tbody tr th {\n",
       "        vertical-align: top;\n",
       "    }\n",
       "\n",
       "    .dataframe thead th {\n",
       "        text-align: right;\n",
       "    }\n",
       "</style>\n",
       "<table border=\"1\" class=\"dataframe\">\n",
       "  <thead>\n",
       "    <tr style=\"text-align: right;\">\n",
       "      <th></th>\n",
       "      <th>Employee</th>\n",
       "      <th>Destination</th>\n",
       "      <th>Travel Start Date</th>\n",
       "      <th>Travel End Date</th>\n",
       "      <th>Actual Total Expenses</th>\n",
       "      <th>Purpose Of Travel</th>\n",
       "    </tr>\n",
       "  </thead>\n",
       "  <tbody>\n",
       "  </tbody>\n",
       "</table>\n",
       "</div>"
      ],
      "text/plain": [
       "Empty DataFrame\n",
       "Columns: [Employee, Destination, Travel Start Date, Travel End Date, Actual Total Expenses, Purpose Of Travel]\n",
       "Index: []"
      ]
     },
     "execution_count": 43,
     "metadata": {},
     "output_type": "execute_result"
    }
   ],
   "source": [
    "travel_dataset[travel_dataset['Purpose Of Travel'].isnull()]"
   ]
  },
  {
   "cell_type": "code",
   "execution_count": 39,
   "metadata": {},
   "outputs": [],
   "source": [
    "travel_dataset['Purpose Of Travel']=travel_dataset['Purpose Of Travel'].fillna('Not Provided')\n",
    "                                                   "
   ]
  },
  {
   "cell_type": "code",
   "execution_count": 40,
   "metadata": {},
   "outputs": [
    {
     "name": "stdout",
     "output_type": "stream",
     "text": [
      "<class 'pandas.core.frame.DataFrame'>\n",
      "RangeIndex: 418 entries, 0 to 417\n",
      "Data columns (total 6 columns):\n",
      " #   Column                 Non-Null Count  Dtype         \n",
      "---  ------                 --------------  -----         \n",
      " 0   Employee               418 non-null    object        \n",
      " 1   Destination            418 non-null    object        \n",
      " 2   Travel Start Date      418 non-null    datetime64[ns]\n",
      " 3   Travel End Date        418 non-null    datetime64[ns]\n",
      " 4   Actual Total Expenses  418 non-null    float64       \n",
      " 5   Purpose Of Travel      418 non-null    object        \n",
      "dtypes: datetime64[ns](2), float64(1), object(3)\n",
      "memory usage: 19.7+ KB\n"
     ]
    }
   ],
   "source": [
    "travel_dataset.info()# purpose of travel is now 418 and no longer 415"
   ]
  },
  {
   "cell_type": "code",
   "execution_count": null,
   "metadata": {},
   "outputs": [],
   "source": []
  },
  {
   "cell_type": "code",
   "execution_count": 50,
   "metadata": {},
   "outputs": [],
   "source": [
    "\n",
    "#extract state\n",
    "def extract_state(text):\n",
    "    result = text.split(',')[1]\n",
    "    return result\n",
    "\n",
    "\n",
    "#Extract city\n",
    "def extract_city(text):\n",
    "    result = text.split(',')[0]\n",
    "    return result"
   ]
  },
  {
   "cell_type": "code",
   "execution_count": null,
   "metadata": {},
   "outputs": [],
   "source": [
    "travel_dataset['Travel Start Date']=travel_dataset['Travel Start Date'].apply(remove_white_space)"
   ]
  },
  {
   "cell_type": "code",
   "execution_count": 52,
   "metadata": {},
   "outputs": [],
   "source": [
    "travel_dataset['State']=travel_dataset['Destination'].apply(extract_state)\n",
    "travel_dataset['City']=travel_dataset['Destination'].apply(extract_city)"
   ]
  },
  {
   "cell_type": "code",
   "execution_count": 55,
   "metadata": {},
   "outputs": [
    {
     "data": {
      "text/html": [
       "<div>\n",
       "<style scoped>\n",
       "    .dataframe tbody tr th:only-of-type {\n",
       "        vertical-align: middle;\n",
       "    }\n",
       "\n",
       "    .dataframe tbody tr th {\n",
       "        vertical-align: top;\n",
       "    }\n",
       "\n",
       "    .dataframe thead th {\n",
       "        text-align: right;\n",
       "    }\n",
       "</style>\n",
       "<table border=\"1\" class=\"dataframe\">\n",
       "  <thead>\n",
       "    <tr style=\"text-align: right;\">\n",
       "      <th></th>\n",
       "      <th>Employee</th>\n",
       "      <th>Destination</th>\n",
       "      <th>Travel Start Date</th>\n",
       "      <th>Travel End Date</th>\n",
       "      <th>Actual Total Expenses</th>\n",
       "      <th>Purpose Of Travel</th>\n",
       "      <th>State</th>\n",
       "      <th>City</th>\n",
       "    </tr>\n",
       "  </thead>\n",
       "  <tbody>\n",
       "    <tr>\n",
       "      <th>0</th>\n",
       "      <td>Aaron Salter</td>\n",
       "      <td>OCEAN CITY, MD</td>\n",
       "      <td>2017-05-31</td>\n",
       "      <td>2017-06-02</td>\n",
       "      <td>644.10</td>\n",
       "      <td>Conference</td>\n",
       "      <td>MD</td>\n",
       "      <td>OCEAN CITY</td>\n",
       "    </tr>\n",
       "    <tr>\n",
       "      <th>1</th>\n",
       "      <td>Abigail Ratnofsky</td>\n",
       "      <td>SAN DIEGO, CA</td>\n",
       "      <td>2016-01-24</td>\n",
       "      <td>2016-01-29</td>\n",
       "      <td>2962.70</td>\n",
       "      <td>Conference</td>\n",
       "      <td>CA</td>\n",
       "      <td>SAN DIEGO</td>\n",
       "    </tr>\n",
       "    <tr>\n",
       "      <th>2</th>\n",
       "      <td>Adam Kisthardt</td>\n",
       "      <td>ORLANDO, FL</td>\n",
       "      <td>2018-10-04</td>\n",
       "      <td>2018-10-09</td>\n",
       "      <td>1891.19</td>\n",
       "      <td>Conference</td>\n",
       "      <td>FL</td>\n",
       "      <td>ORLANDO</td>\n",
       "    </tr>\n",
       "    <tr>\n",
       "      <th>3</th>\n",
       "      <td>Adam P. Jones</td>\n",
       "      <td>OCEAN CITY, MD</td>\n",
       "      <td>2016-06-19</td>\n",
       "      <td>2016-06-21</td>\n",
       "      <td>324.36</td>\n",
       "      <td>Conference</td>\n",
       "      <td>MD</td>\n",
       "      <td>OCEAN CITY</td>\n",
       "    </tr>\n",
       "    <tr>\n",
       "      <th>4</th>\n",
       "      <td>Alan Butsch</td>\n",
       "      <td>SAN DIEGO, CA</td>\n",
       "      <td>2019-11-19</td>\n",
       "      <td>2019-11-22</td>\n",
       "      <td>2141.51</td>\n",
       "      <td>Conference</td>\n",
       "      <td>CA</td>\n",
       "      <td>SAN DIEGO</td>\n",
       "    </tr>\n",
       "    <tr>\n",
       "      <th>...</th>\n",
       "      <td>...</td>\n",
       "      <td>...</td>\n",
       "      <td>...</td>\n",
       "      <td>...</td>\n",
       "      <td>...</td>\n",
       "      <td>...</td>\n",
       "      <td>...</td>\n",
       "      <td>...</td>\n",
       "    </tr>\n",
       "    <tr>\n",
       "      <th>413</th>\n",
       "      <td>Warren Jensen!</td>\n",
       "      <td>OCEAN CITY, MD</td>\n",
       "      <td>2017-11-06</td>\n",
       "      <td>2017-11-09</td>\n",
       "      <td>502.45</td>\n",
       "      <td>Conference</td>\n",
       "      <td>MD</td>\n",
       "      <td>OCEAN CITY</td>\n",
       "    </tr>\n",
       "    <tr>\n",
       "      <th>414</th>\n",
       "      <td>Warp Jensen</td>\n",
       "      <td>OCEAN CITY, MD</td>\n",
       "      <td>2019-03-25</td>\n",
       "      <td>2019-03-26</td>\n",
       "      <td>78.00</td>\n",
       "      <td>Conference</td>\n",
       "      <td>MD</td>\n",
       "      <td>OCEAN CITY</td>\n",
       "    </tr>\n",
       "    <tr>\n",
       "      <th>415</th>\n",
       "      <td>Whitney Kujawa</td>\n",
       "      <td>OCEAN CITY, MD</td>\n",
       "      <td>2017-11-06</td>\n",
       "      <td>2017-11-09</td>\n",
       "      <td>567.00</td>\n",
       "      <td>Conference</td>\n",
       "      <td>MD</td>\n",
       "      <td>OCEAN CITY</td>\n",
       "    </tr>\n",
       "    <tr>\n",
       "      <th>416</th>\n",
       "      <td>William Kinna</td>\n",
       "      <td>CHARLOTTE, NC</td>\n",
       "      <td>2017-05-21</td>\n",
       "      <td>2017-05-26</td>\n",
       "      <td>2163.67</td>\n",
       "      <td>Conference</td>\n",
       "      <td>NC</td>\n",
       "      <td>CHARLOTTE</td>\n",
       "    </tr>\n",
       "    <tr>\n",
       "      <th>417</th>\n",
       "      <td>Xin Qi</td>\n",
       "      <td>OCEAN CITY, MD</td>\n",
       "      <td>2019-08-13</td>\n",
       "      <td>2019-08-17</td>\n",
       "      <td>2107.51</td>\n",
       "      <td>Conference</td>\n",
       "      <td>MD</td>\n",
       "      <td>OCEAN CITY</td>\n",
       "    </tr>\n",
       "  </tbody>\n",
       "</table>\n",
       "<p>418 rows × 8 columns</p>\n",
       "</div>"
      ],
      "text/plain": [
       "              Employee     Destination Travel Start Date Travel End Date  \\\n",
       "0         Aaron Salter  OCEAN CITY, MD        2017-05-31      2017-06-02   \n",
       "1    Abigail Ratnofsky   SAN DIEGO, CA        2016-01-24      2016-01-29   \n",
       "2       Adam Kisthardt     ORLANDO, FL        2018-10-04      2018-10-09   \n",
       "3        Adam P. Jones  OCEAN CITY, MD        2016-06-19      2016-06-21   \n",
       "4          Alan Butsch   SAN DIEGO, CA        2019-11-19      2019-11-22   \n",
       "..                 ...             ...               ...             ...   \n",
       "413     Warren Jensen!  OCEAN CITY, MD        2017-11-06      2017-11-09   \n",
       "414        Warp Jensen  OCEAN CITY, MD        2019-03-25      2019-03-26   \n",
       "415     Whitney Kujawa  OCEAN CITY, MD        2017-11-06      2017-11-09   \n",
       "416      William Kinna   CHARLOTTE, NC        2017-05-21      2017-05-26   \n",
       "417             Xin Qi  OCEAN CITY, MD        2019-08-13      2019-08-17   \n",
       "\n",
       "     Actual Total Expenses Purpose Of Travel State        City  \n",
       "0                   644.10        Conference    MD  OCEAN CITY  \n",
       "1                  2962.70        Conference    CA   SAN DIEGO  \n",
       "2                  1891.19        Conference    FL     ORLANDO  \n",
       "3                   324.36        Conference    MD  OCEAN CITY  \n",
       "4                  2141.51        Conference    CA   SAN DIEGO  \n",
       "..                     ...               ...   ...         ...  \n",
       "413                 502.45        Conference    MD  OCEAN CITY  \n",
       "414                  78.00        Conference    MD  OCEAN CITY  \n",
       "415                 567.00        Conference    MD  OCEAN CITY  \n",
       "416                2163.67        Conference    NC   CHARLOTTE  \n",
       "417                2107.51        Conference    MD  OCEAN CITY  \n",
       "\n",
       "[418 rows x 8 columns]"
      ]
     },
     "execution_count": 55,
     "metadata": {},
     "output_type": "execute_result"
    }
   ],
   "source": [
    "travel_dataset"
   ]
  },
  {
   "cell_type": "code",
   "execution_count": null,
   "metadata": {},
   "outputs": [],
   "source": []
  }
 ],
 "metadata": {
  "kernelspec": {
   "display_name": "Python 3",
   "language": "python",
   "name": "python3"
  },
  "language_info": {
   "codemirror_mode": {
    "name": "ipython",
    "version": 3
   },
   "file_extension": ".py",
   "mimetype": "text/x-python",
   "name": "python",
   "nbconvert_exporter": "python",
   "pygments_lexer": "ipython3",
   "version": "3.11.5"
  },
  "orig_nbformat": 4
 },
 "nbformat": 4,
 "nbformat_minor": 2
}
