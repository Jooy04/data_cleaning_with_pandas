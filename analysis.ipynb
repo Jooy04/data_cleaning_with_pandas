{
 "cells": [
  {
   "cell_type": "code",
   "execution_count": 1,
   "metadata": {},
   "outputs": [],
   "source": [
    "import psycopg2\n",
    "import pandas as pd\n"
   ]
  },
  {
   "cell_type": "code",
   "execution_count": 2,
   "metadata": {},
   "outputs": [],
   "source": [
    "hostname='localhost'\n",
    "database='bissan'\n",
    "username='postgres'\n",
    "password= 'Aimalohi94'\n",
    "port_id='5432'"
   ]
  },
  {
   "cell_type": "code",
   "execution_count": 3,
   "metadata": {},
   "outputs": [],
   "source": [
    "conn = psycopg2.connect(\n",
    "    host = hostname# host of your database\n",
    "    , database =database # <your_postgre_username>\n",
    "    , user = username # <your_postgre_password>\n",
    "    , password = password# edit this to the name of the database you created for Bissan Exports' dataset\n",
    ")"
   ]
  },
  {
   "cell_type": "code",
   "execution_count": null,
   "metadata": {},
   "outputs": [],
   "source": []
  },
  {
   "cell_type": "code",
   "execution_count": null,
   "metadata": {},
   "outputs": [],
   "source": [
    "#extract employees and stipend from db\n",
    "# compare"
   ]
  },
  {
   "cell_type": "markdown",
   "metadata": {},
   "source": [
    "# Question 1\n",
    "\n",
    "How many employees spent above their given stipend? Extract the name of the\n",
    "employee, the assigned stipend, and the actual amount spent."
   ]
  },
  {
   "cell_type": "code",
   "execution_count": 5,
   "metadata": {},
   "outputs": [],
   "source": [
    "cursor= conn.cursor()\n",
    "\n",
    "query='''\n",
    "    SELECT DISTINCT name, entitled_bonus AS stipend\n",
    "    FROM employees e\n",
    "    LEFT JOIN departments d\n",
    "\t    ON e.department_id = d._id;\n",
    "'''\n",
    "\n",
    "cursor.execute(query)\n",
    "all_employees_stipend= cursor.fetchall()"
   ]
  },
  {
   "cell_type": "code",
   "execution_count": null,
   "metadata": {},
   "outputs": [],
   "source": [
    "employee"
   ]
  },
  {
   "cell_type": "code",
   "execution_count": 7,
   "metadata": {},
   "outputs": [],
   "source": [
    "employees_df= pd.DataFrame(all_employees_stipend, columns=['name', 'stipend'])"
   ]
  },
  {
   "cell_type": "code",
   "execution_count": null,
   "metadata": {},
   "outputs": [],
   "source": []
  }
 ],
 "metadata": {
  "kernelspec": {
   "display_name": "Python 3",
   "language": "python",
   "name": "python3"
  },
  "language_info": {
   "codemirror_mode": {
    "name": "ipython",
    "version": 3
   },
   "file_extension": ".py",
   "mimetype": "text/x-python",
   "name": "python",
   "nbconvert_exporter": "python",
   "pygments_lexer": "ipython3",
   "version": "3.11.6"
  },
  "orig_nbformat": 4
 },
 "nbformat": 4,
 "nbformat_minor": 2
}
